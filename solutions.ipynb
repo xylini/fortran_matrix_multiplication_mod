{
 "cells": [
  {
   "cell_type": "markdown",
   "metadata": {},
   "source": [
    "# Fortran 2008 - Project 2 - Matrix Multiplication"
   ]
  },
  {
   "cell_type": "markdown",
   "metadata": {},
   "source": [
    "## Exercise 1"
   ]
  },
  {
   "cell_type": "code",
   "execution_count": 26,
   "metadata": {},
   "outputs": [],
   "source": [
    "trash = !{\"cd ./ex1/ && make clean test\"}"
   ]
  },
  {
   "cell_type": "code",
   "execution_count": 29,
   "metadata": {},
   "outputs": [
    {
     "name": "stdout",
     "output_type": "stream",
     "text": [
      "......\r\n",
      "Time:         0.007 seconds\r\n",
      "  \r\n",
      " OK\r\n",
      " (6 tests)\r\n"
     ]
    }
   ],
   "source": [
    "!{\"cd ./ex1/ && ./test\"}"
   ]
  },
  {
   "cell_type": "markdown",
   "metadata": {},
   "source": [
    "## Exercise 2"
   ]
  },
  {
   "cell_type": "code",
   "execution_count": 23,
   "metadata": {},
   "outputs": [],
   "source": [
    "trash = !{\"cd ./ex2/ && make clean tests\"}"
   ]
  },
  {
   "cell_type": "code",
   "execution_count": 25,
   "metadata": {
    "scrolled": false
   },
   "outputs": [
    {
     "name": "stdout",
     "output_type": "stream",
     "text": [
      "./test00\n",
      ". DOT:            0 CACHE:            0\n",
      ". DOT:            0 CACHE:            0\n",
      ". DOT:            0 CACHE:            0\n",
      ". DOT:            0 CACHE:            0\n",
      ". DOT:            0 CACHE:            0\n",
      ". DOT:            0 CACHE:            0\n",
      " \n",
      "Time:         0.004 seconds\n",
      "  \n",
      " OK\n",
      " (6 tests)\n",
      "./test01\n",
      ". DOT:            0 CACHE:            1\n",
      ". DOT:            0 CACHE:            1\n",
      ". DOT:            0 CACHE:            1\n",
      ". DOT:            0 CACHE:            1\n",
      ". DOT:            0 CACHE:            1\n",
      ". DOT:            0 CACHE:            1\n",
      " \n",
      "Time:         0.006 seconds\n",
      "  \n",
      " OK\n",
      " (6 tests)\n",
      "./test10\n",
      ". DOT:            1 CACHE:            0\n",
      ". DOT:            1 CACHE:            0\n",
      ". DOT:            1 CACHE:            0\n",
      ". DOT:            1 CACHE:            0\n",
      ". DOT:            1 CACHE:            0\n",
      ". DOT:            1 CACHE:            0\n",
      " \n",
      "Time:         0.004 seconds\n",
      "  \n",
      " OK\n",
      " (6 tests)\n",
      "./test11\n",
      ". DOT:            1 CACHE:            1\n",
      ". DOT:            1 CACHE:            1\n",
      ". DOT:            1 CACHE:            1\n",
      ". DOT:            1 CACHE:            1\n",
      ". DOT:            1 CACHE:            1\n",
      ". DOT:            1 CACHE:            1\n",
      " \n",
      "Time:         0.004 seconds\n",
      "  \n",
      " OK\n",
      " (6 tests)\n"
     ]
    }
   ],
   "source": [
    "!{\"cd ./ex2/ && make run_tests\"}"
   ]
  },
  {
   "cell_type": "markdown",
   "metadata": {},
   "source": [
    "## Exercise 3"
   ]
  },
  {
   "cell_type": "code",
   "execution_count": 60,
   "metadata": {},
   "outputs": [
    {
     "name": "stdout",
     "output_type": "stream",
     "text": [
      "Successful!\n"
     ]
    }
   ],
   "source": [
    "trash = !{\"cd ./ex3/ && make clean main00 main01 main10 main11 mainmatmul\"}\n",
    "print(\"Successful!\")"
   ]
  },
  {
   "cell_type": "code",
   "execution_count": 63,
   "metadata": {},
   "outputs": [
    {
     "name": "stdout",
     "output_type": "stream",
     "text": [
      "N size: 0\n",
      "\tDOT: 0, CACHE: 0 ...\n",
      "\tDOT: 0, CACHE: 1 ...\n",
      "\tDOT: 1, CACHE: 0 ...\n",
      "\tDOT: 1, CACHE: 1 ...\n",
      "\tmatmul ...\n",
      "\tSuccesful!\n",
      "\n",
      "N size: 100\n",
      "\tDOT: 0, CACHE: 0 ...\n",
      "\tDOT: 0, CACHE: 1 ...\n",
      "\tDOT: 1, CACHE: 0 ...\n",
      "\tDOT: 1, CACHE: 1 ...\n",
      "\tmatmul ...\n",
      "\tSuccesful!\n",
      "\n",
      "N size: 200\n",
      "\tDOT: 0, CACHE: 0 ...\n",
      "\tDOT: 0, CACHE: 1 ...\n",
      "\tDOT: 1, CACHE: 0 ...\n",
      "\tDOT: 1, CACHE: 1 ...\n",
      "\tmatmul ...\n",
      "\tSuccesful!\n",
      "\n",
      "N size: 300\n",
      "\tDOT: 0, CACHE: 0 ...\n",
      "\tDOT: 0, CACHE: 1 ...\n",
      "\tDOT: 1, CACHE: 0 ...\n",
      "\tDOT: 1, CACHE: 1 ...\n",
      "\tmatmul ...\n",
      "\tSuccesful!\n",
      "\n",
      "N size: 400\n",
      "\tDOT: 0, CACHE: 0 ...\n",
      "\tDOT: 0, CACHE: 1 ...\n",
      "\tDOT: 1, CACHE: 0 ...\n",
      "\tDOT: 1, CACHE: 1 ...\n",
      "\tmatmul ...\n",
      "\tSuccesful!\n",
      "\n",
      "N size: 500\n",
      "\tDOT: 0, CACHE: 0 ...\n",
      "\tDOT: 0, CACHE: 1 ...\n",
      "\tDOT: 1, CACHE: 0 ...\n",
      "\tDOT: 1, CACHE: 1 ...\n",
      "\tmatmul ...\n",
      "\tSuccesful!\n",
      "\n",
      "N size: 600\n",
      "\tDOT: 0, CACHE: 0 ...\n",
      "\tDOT: 0, CACHE: 1 ...\n",
      "\tDOT: 1, CACHE: 0 ...\n",
      "\tDOT: 1, CACHE: 1 ...\n",
      "\tmatmul ...\n",
      "\tSuccesful!\n",
      "\n",
      "N size: 700\n",
      "\tDOT: 0, CACHE: 0 ...\n",
      "\tDOT: 0, CACHE: 1 ...\n",
      "\tDOT: 1, CACHE: 0 ...\n",
      "\tDOT: 1, CACHE: 1 ...\n",
      "\tmatmul ...\n",
      "\tSuccesful!\n",
      "\n",
      "N size: 800\n",
      "\tDOT: 0, CACHE: 0 ...\n",
      "\tDOT: 0, CACHE: 1 ...\n",
      "\tDOT: 1, CACHE: 0 ...\n",
      "\tDOT: 1, CACHE: 1 ...\n",
      "\tmatmul ...\n",
      "\tSuccesful!\n",
      "\n",
      "N size: 900\n",
      "\tDOT: 0, CACHE: 0 ...\n",
      "\tDOT: 0, CACHE: 1 ...\n",
      "\tDOT: 1, CACHE: 0 ...\n",
      "\tDOT: 1, CACHE: 1 ...\n",
      "\tmatmul ...\n",
      "\tSuccesful!\n",
      "\n",
      "N size: 1000\n",
      "\tDOT: 0, CACHE: 0 ...\n",
      "\tDOT: 0, CACHE: 1 ...\n",
      "\tDOT: 1, CACHE: 0 ...\n",
      "\tDOT: 1, CACHE: 1 ...\n",
      "\tmatmul ...\n",
      "\tSuccesful!\n",
      "\n",
      "N size: 1100\n",
      "\tDOT: 0, CACHE: 0 ...\n",
      "\tDOT: 0, CACHE: 1 ...\n",
      "\tDOT: 1, CACHE: 0 ...\n",
      "\tDOT: 1, CACHE: 1 ...\n",
      "\tmatmul ...\n",
      "\tSuccesful!\n",
      "\n",
      "N size: 1200\n",
      "\tDOT: 0, CACHE: 0 ...\n",
      "\tDOT: 0, CACHE: 1 ...\n",
      "\tDOT: 1, CACHE: 0 ...\n",
      "\tDOT: 1, CACHE: 1 ...\n",
      "\tmatmul ...\n",
      "\tSuccesful!\n",
      "\n",
      "N size: 1300\n",
      "\tDOT: 0, CACHE: 0 ...\n",
      "\tDOT: 0, CACHE: 1 ...\n",
      "\tDOT: 1, CACHE: 0 ...\n",
      "\tDOT: 1, CACHE: 1 ...\n",
      "\tmatmul ...\n",
      "\tSuccesful!\n",
      "\n",
      "N size: 1400\n",
      "\tDOT: 0, CACHE: 0 ...\n",
      "\tDOT: 0, CACHE: 1 ...\n",
      "\tDOT: 1, CACHE: 0 ...\n",
      "\tDOT: 1, CACHE: 1 ...\n",
      "\tmatmul ...\n",
      "\tSuccesful!\n",
      "\n",
      "N size: 1500\n",
      "\tDOT: 0, CACHE: 0 ...\n",
      "\tDOT: 0, CACHE: 1 ...\n",
      "\tDOT: 1, CACHE: 0 ...\n",
      "\tDOT: 1, CACHE: 1 ...\n",
      "\tmatmul ...\n",
      "\tSuccesful!\n",
      "\n",
      "N size: 1600\n",
      "\tDOT: 0, CACHE: 0 ...\n",
      "\tDOT: 0, CACHE: 1 ...\n",
      "\tDOT: 1, CACHE: 0 ...\n",
      "\tDOT: 1, CACHE: 1 ...\n",
      "\tmatmul ...\n",
      "\tSuccesful!\n",
      "\n",
      "N size: 1700\n",
      "\tDOT: 0, CACHE: 0 ...\n",
      "\tDOT: 0, CACHE: 1 ...\n",
      "\tDOT: 1, CACHE: 0 ...\n",
      "\tDOT: 1, CACHE: 1 ...\n",
      "\tmatmul ...\n",
      "\tSuccesful!\n",
      "\n",
      "N size: 1800\n",
      "\tDOT: 0, CACHE: 0 ...\n",
      "\tDOT: 0, CACHE: 1 ...\n",
      "\tDOT: 1, CACHE: 0 ...\n",
      "\tDOT: 1, CACHE: 1 ...\n",
      "\tmatmul ...\n",
      "\tSuccesful!\n",
      "\n",
      "N size: 1900\n",
      "\tDOT: 0, CACHE: 0 ...\n",
      "\tDOT: 0, CACHE: 1 ...\n",
      "\tDOT: 1, CACHE: 0 ...\n",
      "\tDOT: 1, CACHE: 1 ...\n",
      "\tmatmul ...\n",
      "\tSuccesful!\n",
      "\n"
     ]
    }
   ],
   "source": [
    "time00 = []\n",
    "time01 = []\n",
    "time10 = []\n",
    "time11 = []\n",
    "timemm = []\n",
    "\n",
    "\n",
    "for i in range(20):\n",
    "    m00 = f\"cd ./ex3/ && ./main00 {i * 100}\"\n",
    "    m01 = f\"cd ./ex3/ && ./main01 {i * 100}\"\n",
    "    m10 = f\"cd ./ex3/ && ./main10 {i * 100}\"\n",
    "    m11 = f\"cd ./ex3/ && ./main11 {i * 100}\"\n",
    "    mm  = f\"cd ./ex3/ && ./mainmatmul {i * 100}\"\n",
    "    \n",
    "    print(\"N size: \" + str(i*100))\n",
    "    print(\"\\tDOT: 0, CACHE: 0 ...\")\n",
    "    ex00 = !{m00}\n",
    "    print(\"\\tDOT: 0, CACHE: 1 ...\")\n",
    "    ex01 = !{m01}\n",
    "    print(\"\\tDOT: 1, CACHE: 0 ...\")\n",
    "    ex10 = !{m10}\n",
    "    print(\"\\tDOT: 1, CACHE: 1 ...\")\n",
    "    ex11 = !{m11}\n",
    "    print(\"\\tmatmul ...\")\n",
    "    exmm = !{mm}\n",
    "    \n",
    "    \n",
    "    \n",
    "    \n",
    "    time00.append(float(ex00[0]))\n",
    "    time01.append(float(ex01[0]))\n",
    "    time10.append(float(ex10[0]))\n",
    "    time11.append(float(ex11[0]))\n",
    "    timemm.append(float(exmm[0]))\n",
    "    print(\"\\tSuccesful!\")\n",
    "    print()"
   ]
  },
  {
   "cell_type": "code",
   "execution_count": 65,
   "metadata": {},
   "outputs": [],
   "source": [
    "import matplotlib.pyplot as plt"
   ]
  },
  {
   "cell_type": "code",
   "execution_count": 75,
   "metadata": {},
   "outputs": [
    {
     "data": {
      "image/png": "[encoded data removed]",
      "text/plain": [
       "<matplotlib.figure.Figure at 0x112b3f5f8>"
      ]
     },
     "metadata": {},
     "output_type": "display_data"
    }
   ],
   "source": [
    "X = [x * 100 for x in range(20)]\n",
    "\n",
    "axes = plt.gca()\n",
    "axes.set_yscale('log')\n",
    "plt.scatter(X, time00, label='DOT: 0, CACHE: 0', s = 200)\n",
    "\n",
    "plt.scatter(X, time01, label='DOT: 0, CACHE: 1', s=150)\n",
    "\n",
    "plt.scatter(X, time10, label='DOT: 1, CACHE: 0',s=100)\n",
    "\n",
    "plt.scatter(X, time11, label='DOT: 1, CACHE: 1', s=50)\n",
    "\n",
    "plt.scatter(X, timemm, label='matmul', s=25)\n",
    "\n",
    "l = plt.legend(loc='best')\n",
    "l.set_zorder(20)  # put the legend on top\n",
    "plt.show()"
   ]
  }
 ],
 "metadata": {
  "kernelspec": {
   "display_name": "Python 3",
   "language": "python",
   "name": "python3"
  },
  "language_info": {
   "codemirror_mode": {
    "name": "ipython",
    "version": 3
   },
   "file_extension": ".py",
   "mimetype": "text/x-python",
   "name": "python",
   "nbconvert_exporter": "python",
   "pygments_lexer": "ipython3",
   "version": "3.6.4"
  }
 },
 "nbformat": 4,
 "nbformat_minor": 2
}
